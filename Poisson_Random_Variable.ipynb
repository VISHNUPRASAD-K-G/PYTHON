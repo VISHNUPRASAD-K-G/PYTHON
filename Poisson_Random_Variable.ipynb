{
 "cells": [
  {
   "cell_type": "code",
   "execution_count": 2,
   "id": "2cebb776",
   "metadata": {},
   "outputs": [
    {
     "name": "stdout",
     "output_type": "stream",
     "text": [
      "Enter The Value Of Lambda: 4\n",
      "Enter The Value Of K:5\n",
      "The Probability Is:  0.15629364238680524\n"
     ]
    }
   ],
   "source": [
    "l=int(input(\"Enter The Value Of Lambda: \"))\n",
    "k=int(input(\"Enter The Value Of K:\"))\n",
    "e=2.718281\n",
    "fact=1\n",
    "for i in range(1,k+1):\n",
    "    fact*=i\n",
    "p=((e**(-l))*(l**k))/fact\n",
    "print(\"The Probability Is: \",p)"
   ]
  },
  {
   "cell_type": "code",
   "execution_count": null,
   "id": "3ab2910a",
   "metadata": {},
   "outputs": [],
   "source": []
  }
 ],
 "metadata": {
  "kernelspec": {
   "display_name": "Python 3 (ipykernel)",
   "language": "python",
   "name": "python3"
  },
  "language_info": {
   "codemirror_mode": {
    "name": "ipython",
    "version": 3
   },
   "file_extension": ".py",
   "mimetype": "text/x-python",
   "name": "python",
   "nbconvert_exporter": "python",
   "pygments_lexer": "ipython3",
   "version": "3.9.13"
  }
 },
 "nbformat": 4,
 "nbformat_minor": 5
}
