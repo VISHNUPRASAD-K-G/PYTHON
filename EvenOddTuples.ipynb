{
 "cells": [
  {
   "cell_type": "code",
   "execution_count": 3,
   "id": "5f388192",
   "metadata": {},
   "outputs": [
    {
     "name": "stdout",
     "output_type": "stream",
     "text": [
      "Enter The No Of Elements In The Tuples: 10\n",
      "11\n",
      "12\n",
      "13\n",
      "14\n",
      "15\n",
      "16\n",
      "17\n",
      "18\n",
      "19\n",
      "20\n",
      "Entered Tuple Is:  (11, 12, 13, 14, 15, 16, 17, 18, 19, 20)\n",
      "Even Tuple Is:  (12, 14, 16, 18, 20)\n",
      "Odd Tuple Is:  (11, 13, 15, 17, 19)\n"
     ]
    }
   ],
   "source": [
    "n=int(input(\"Enter The No Of Elements In The Tuples: \"))\n",
    "ls=[]\n",
    "ev=[]\n",
    "odd=[]\n",
    "for i in range(0,n):\n",
    "    g=int(input())\n",
    "    ls.append(g)\n",
    "for i in ls:\n",
    "    if(i%2==0):\n",
    "        ev.append(i)\n",
    "    else:\n",
    "        odd.append(i)\n",
    "print(\"Entered Tuple Is: \",tuple(ls))\n",
    "print(\"Even Tuple Is: \",tuple(ev))\n",
    "print(\"Odd Tuple Is: \",tuple(odd))"
   ]
  },
  {
   "cell_type": "code",
   "execution_count": null,
   "id": "aa06b010",
   "metadata": {},
   "outputs": [],
   "source": []
  }
 ],
 "metadata": {
  "kernelspec": {
   "display_name": "Python 3 (ipykernel)",
   "language": "python",
   "name": "python3"
  },
  "language_info": {
   "codemirror_mode": {
    "name": "ipython",
    "version": 3
   },
   "file_extension": ".py",
   "mimetype": "text/x-python",
   "name": "python",
   "nbconvert_exporter": "python",
   "pygments_lexer": "ipython3",
   "version": "3.9.13"
  }
 },
 "nbformat": 4,
 "nbformat_minor": 5
}
