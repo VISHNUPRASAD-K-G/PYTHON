{
 "cells": [
  {
   "cell_type": "code",
   "execution_count": 26,
   "id": "94b9388b",
   "metadata": {},
   "outputs": [
    {
     "name": "stdout",
     "output_type": "stream",
     "text": [
      "Books Available:  {'book1': 100, 'book2': 120, 'book3': 150, 'book4': 140}\n",
      "\n",
      "1.Update Book Stock\n",
      "2.Add New Book\n",
      "3.Remove Book\n",
      "4.Exit\n",
      "\n",
      "Enter Your Choice: 1\n",
      "Enter The Book Name That You Want To Update Stock: book1\n",
      "Enter The New Stock:250\n",
      "Updated Book:  {'book1': 250, 'book2': 120, 'book3': 150, 'book4': 140}\n",
      "\n",
      "Enter Your Choice: 2\n",
      "Enter The Name Of New Book: book1\n",
      "Book Already Exists\n",
      "\n",
      "Enter Your Choice: 2\n",
      "Enter The Name Of New Book: book5\n",
      "Enter The Number Of Stock: 200\n",
      "Updated Book:  {'book1': 250, 'book2': 120, 'book3': 150, 'book4': 140, 'book5': 200}\n",
      "\n",
      "Enter Your Choice: 3\n",
      "Enter The Name Of The Book That You Want To Remove: book5\n",
      "Updated Book:  {'book1': 250, 'book2': 120, 'book3': 150, 'book4': 140}\n",
      "\n",
      "Enter Your Choice: 4\n"
     ]
    }
   ],
   "source": [
    "book={'book1':100,'book2':120,'book3':150,'book4':140}\n",
    "print(\"Books That Are Available Now: \",book)\n",
    "def books():\n",
    "    print(\"Updated Book: \",book)\n",
    "    \n",
    "def update():\n",
    "    up_name=input(\"Enter The Book Name That You Want To Update Stock: \")\n",
    "    if up_name in book:\n",
    "        up_stock=int(input(\"Enter The New Stock:\"))\n",
    "        book.update({up_name:up_stock})\n",
    "        books()\n",
    "    else:\n",
    "        print(\"Book Not Found\")\n",
    "    \n",
    "def new():\n",
    "    new_book=input(\"Enter The Name Of New Book: \")\n",
    "    if new_book in book:\n",
    "        print(\"Book Already Exists\")\n",
    "    else:\n",
    "        n=int(input(\"Enter The Number Of Stock: \"))\n",
    "        book.update({new_book:n})\n",
    "        books()\n",
    "\n",
    "def deleted():\n",
    "    del_name=input(\"Enter The Name Of The Book That You Want To Remove: \")\n",
    "    if del_name in book:\n",
    "        book.pop(del_name)\n",
    "        books()\n",
    "    else:\n",
    "        print(\"Book Not Found\")\n",
    "    \n",
    "#print(\"Updated Books: \",book)\n",
    "s=0\n",
    "print(\"\\n1.Update Book Stock\\n2.Add New Book\\n3.Remove Book\\n4.Exit\")\n",
    "while(1):\n",
    "    s=int(input(\"\\nEnter Your Choice: \"))\n",
    "    if(s==1):\n",
    "        update()\n",
    "        #break\n",
    "    elif(s==2):\n",
    "        new()\n",
    "        #break\n",
    "    elif(s==3):\n",
    "        deleted()\n",
    "    elif(s==4):\n",
    "        break"
   ]
  },
  {
   "cell_type": "code",
   "execution_count": null,
   "id": "169428f3",
   "metadata": {},
   "outputs": [],
   "source": []
  }
 ],
 "metadata": {
  "kernelspec": {
   "display_name": "Python 3 (ipykernel)",
   "language": "python",
   "name": "python3"
  },
  "language_info": {
   "codemirror_mode": {
    "name": "ipython",
    "version": 3
   },
   "file_extension": ".py",
   "mimetype": "text/x-python",
   "name": "python",
   "nbconvert_exporter": "python",
   "pygments_lexer": "ipython3",
   "version": "3.9.13"
  }
 },
 "nbformat": 4,
 "nbformat_minor": 5
}
