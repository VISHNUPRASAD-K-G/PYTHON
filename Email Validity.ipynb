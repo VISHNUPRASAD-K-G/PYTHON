{
 "cells": [
  {
   "cell_type": "code",
   "execution_count": 27,
   "metadata": {},
   "outputs": [
    {
     "name": "stdout",
     "output_type": "stream",
     "text": [
      "Enter An Email: ABC@GMAIL.COM\n",
      "Valid Email\n"
     ]
    }
   ],
   "source": [
    "ls=[\"gmail.com\",\"yahoo.com\",\"twitter.com\",\"facebook.com\"]\n",
    "em=input(\"Enter An Email: \")\n",
    "\n",
    "def invalid():\n",
    "    print(\"Invalid Email\")\n",
    "\n",
    "s=em.split('@')\n",
    "l=len(s)\n",
    "if l!=2:\n",
    "    invalid()\n",
    "else:\n",
    "    g=s[0].lower()\n",
    "    if g in ls:\n",
    "        invalid()\n",
    "    else:\n",
    "        a=s[1].lower()\n",
    "        if a in ls:\n",
    "            print(\"Valid Email\")\n",
    "        else:\n",
    "            invalid()"
   ]
  },
  {
   "cell_type": "code",
   "execution_count": null,
   "metadata": {},
   "outputs": [],
   "source": []
  }
 ],
 "metadata": {
  "kernelspec": {
   "display_name": "Python 3",
   "language": "python",
   "name": "python3"
  },
  "language_info": {
   "codemirror_mode": {
    "name": "ipython",
    "version": 3
   },
   "file_extension": ".py",
   "mimetype": "text/x-python",
   "name": "python",
   "nbconvert_exporter": "python",
   "pygments_lexer": "ipython3",
   "version": "3.6.9"
  }
 },
 "nbformat": 4,
 "nbformat_minor": 2
}
