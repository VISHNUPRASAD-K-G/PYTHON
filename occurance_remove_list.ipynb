{
 "cells": [
  {
   "cell_type": "code",
   "execution_count": 16,
   "id": "7103b8ce",
   "metadata": {},
   "outputs": [
    {
     "name": "stdout",
     "output_type": "stream",
     "text": [
      "Enter The Number Of Items In The List: 10\n",
      "Enter The List: \n",
      "10\n",
      "20\n",
      "30\n",
      "10\n",
      "20\n",
      "40\n",
      "10\n",
      "10\n",
      "10\n",
      "80\n",
      "Enter The Element To Be Removed From The List: 10\n",
      "[20, 30, 20, 40, 80]\n"
     ]
    }
   ],
   "source": [
    "ls=[]\n",
    "ls1=[]\n",
    "n=int(input(\"Enter The Number Of Items In The List: \"))\n",
    "print(\"Enter The List: \")\n",
    "for i in range(0,n):\n",
    "    g=int(input())\n",
    "    ls.append(g)\n",
    "rm=int(input(\"Enter The Element To Be Removed From The List: \"))\n",
    "for i in ls:\n",
    "    if(i!=rm):\n",
    "        ls1.append(i)\n",
    "    ls=ls1\n",
    "print(ls)"
   ]
  },
  {
   "cell_type": "code",
   "execution_count": null,
   "id": "1ba4f823",
   "metadata": {},
   "outputs": [],
   "source": []
  }
 ],
 "metadata": {
  "kernelspec": {
   "display_name": "Python 3 (ipykernel)",
   "language": "python",
   "name": "python3"
  },
  "language_info": {
   "codemirror_mode": {
    "name": "ipython",
    "version": 3
   },
   "file_extension": ".py",
   "mimetype": "text/x-python",
   "name": "python",
   "nbconvert_exporter": "python",
   "pygments_lexer": "ipython3",
   "version": "3.9.13"
  }
 },
 "nbformat": 4,
 "nbformat_minor": 5
}
