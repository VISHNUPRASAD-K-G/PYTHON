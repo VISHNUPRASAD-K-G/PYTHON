{
 "cells": [
  {
   "cell_type": "code",
   "execution_count": 24,
   "id": "a4572401",
   "metadata": {},
   "outputs": [
    {
     "name": "stdout",
     "output_type": "stream",
     "text": [
      "Enter An Email: a.b@yahoo.com\n",
      "Invalid Email\n"
     ]
    }
   ],
   "source": [
    "ls=[\"gmail.com\",\"yahoo.com\",\"twitter.com\",\"facebook.com\"]\n",
    "spl=['.','!','/',',','#','%']\n",
    "em=input(\"Enter An Email: \")\n",
    "def invalid():\n",
    "    print(\"Invalid Email\")\n",
    "\n",
    "l=len(em)\n",
    "flag=1\n",
    "for i in range(0,l):\n",
    "    if(em[i]==\"@\"):\n",
    "        s=em.split('@')\n",
    "        break\n",
    "else:\n",
    "    print(\"'@' not found check and enter your email again\")\n",
    "for i in s[0]:\n",
    "    for j in spl:\n",
    "        if(i==j):\n",
    "            flag=0\n",
    "            break\n",
    "if(flag==0):\n",
    "    invalid()\n",
    "else:\n",
    "    g=s[1].lower()\n",
    "    for i in ls:\n",
    "        if(g==i):\n",
    "            print(\"Valid Email\")\n",
    "            break\n",
    "    else:\n",
    "        invalid()"
   ]
  },
  {
   "cell_type": "code",
   "execution_count": null,
   "id": "f4b1828f",
   "metadata": {},
   "outputs": [],
   "source": []
  }
 ],
 "metadata": {
  "kernelspec": {
   "display_name": "Python 3 (ipykernel)",
   "language": "python",
   "name": "python3"
  },
  "language_info": {
   "codemirror_mode": {
    "name": "ipython",
    "version": 3
   },
   "file_extension": ".py",
   "mimetype": "text/x-python",
   "name": "python",
   "nbconvert_exporter": "python",
   "pygments_lexer": "ipython3",
   "version": "3.9.13"
  }
 },
 "nbformat": 4,
 "nbformat_minor": 5
}
