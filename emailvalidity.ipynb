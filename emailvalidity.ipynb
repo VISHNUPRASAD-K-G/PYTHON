ls=["gmail.com","yahoo.com","twitter.com","facebook.com"]
em=input("Enter An Email: ")

def invalid():
    print("Invalid Email")

s=em.split('@')
l=len(s)
if l!=2:
    invalid()
else:
    g=s[0].lower()
    if g in ls:
        invalid()
    else:
        a=s[1].lower()
        if a in ls:
            print("Valid Email")
        else:
            invalid()
