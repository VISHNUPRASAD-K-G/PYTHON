{
 "cells": [
  {
   "cell_type": "code",
   "execution_count": 12,
   "id": "c7b58398",
   "metadata": {},
   "outputs": [
    {
     "name": "stdout",
     "output_type": "stream",
     "text": [
      "The File Contents are:  [1, 2, 3, 4, 5, 6, 7, 8, 9, 10, 11, 12, 13, 14, 15, 16, 17, 18, 19, 20]\n",
      "Prime Numbers Are:  [2, 3, 5, 7, 11, 13, 17, 19]\n"
     ]
    }
   ],
   "source": [
    "file=open('prime.txt','r')\n",
    "f=0\n",
    "e=[]\n",
    "ls=[]\n",
    "for i in file:\n",
    "    s=i.split(\" \")\n",
    "for i in s:\n",
    "    ls.append(int(i))\n",
    "print(\"The File Contents are: \",ls)\n",
    "l=len(ls)\n",
    "for i in ls:\n",
    "    c=0\n",
    "    for y in range(2,i):\n",
    "        if(i%y==0):\n",
    "            f=0\n",
    "            break\n",
    "        else:\n",
    "            c+=1\n",
    "    if(c==i-2):\n",
    "        e.append(i)\n",
    "print(\"Prime Numbers Are: \",e)"
   ]
  },
  {
   "cell_type": "code",
   "execution_count": null,
   "id": "ee20ddab",
   "metadata": {},
   "outputs": [],
   "source": []
  }
 ],
 "metadata": {
  "kernelspec": {
   "display_name": "Python 3 (ipykernel)",
   "language": "python",
   "name": "python3"
  },
  "language_info": {
   "codemirror_mode": {
    "name": "ipython",
    "version": 3
   },
   "file_extension": ".py",
   "mimetype": "text/x-python",
   "name": "python",
   "nbconvert_exporter": "python",
   "pygments_lexer": "ipython3",
   "version": "3.9.13"
  }
 },
 "nbformat": 4,
 "nbformat_minor": 5
}
